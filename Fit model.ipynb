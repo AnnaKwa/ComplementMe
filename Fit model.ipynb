{
 "cells": [
  {
   "cell_type": "code",
   "execution_count": 13,
   "metadata": {
    "collapsed": false
   },
   "outputs": [],
   "source": [
    "import numpy as np\n",
    "import random\n",
    "import time\n",
    "\n",
    "from importlib import reload\n",
    "from sklearn.linear_model import LinearRegression, Ridge\n",
    "\n",
    "import ColorModel\n",
    "reload(ColorModel)\n",
    "import ColorModel"
   ]
  },
  {
   "cell_type": "code",
   "execution_count": 2,
   "metadata": {
    "collapsed": false
   },
   "outputs": [],
   "source": [
    "train_data = ColorModel.color_dataset('train_features.dat')\n",
    "train_data.convert_data_to_features()\n",
    "train_data.linear_add_features()\n",
    "train_data.quadratic_add_features()"
   ]
  },
  {
   "cell_type": "markdown",
   "metadata": {},
   "source": [
    "#### Fit model using linearly added features"
   ]
  },
  {
   "cell_type": "code",
   "execution_count": 3,
   "metadata": {
    "collapsed": false
   },
   "outputs": [
    {
     "name": "stdout",
     "output_type": "stream",
     "text": [
      "0.0885462760925293 s\n"
     ]
    }
   ],
   "source": [
    "OLS_regression_model_linear_R = LinearRegression(normalize=True)\n",
    "OLS_regression_model_linear_G = LinearRegression(normalize=True)\n",
    "OLS_regression_model_linear_B = LinearRegression(normalize=True)\n",
    "\n",
    "Ridge_regression_model_linear_R = Ridge(alpha=0.5, normalize=True)\n",
    "Ridge_regression_model_linear_G = Ridge(alpha=0.5, normalize=True)\n",
    "Ridge_regression_model_linear_B = Ridge(alpha=0.5, normalize=True)\n",
    "\n",
    "t0=time.time()\n",
    "\n",
    "OLS_regression_model_linear_R.fit( train_data.features_linear_addition, train_data.y_R)\n",
    "OLS_regression_model_linear_G.fit( train_data.features_linear_addition, train_data.y_G)\n",
    "OLS_regression_model_linear_B.fit( train_data.features_linear_addition, train_data.y_B)\n",
    "\n",
    "Ridge_regression_model_linear_R.fit( train_data.features_linear_addition, train_data.y_R)\n",
    "Ridge_regression_model_linear_G.fit( train_data.features_linear_addition, train_data.y_G)\n",
    "Ridge_regression_model_linear_B.fit( train_data.features_linear_addition, train_data.y_B)\n",
    "\n",
    "print(time.time() - t0, 's')"
   ]
  },
  {
   "cell_type": "markdown",
   "metadata": {},
   "source": [
    "#### Fit model using quadratically added features"
   ]
  },
  {
   "cell_type": "code",
   "execution_count": 4,
   "metadata": {
    "collapsed": false
   },
   "outputs": [
    {
     "name": "stdout",
     "output_type": "stream",
     "text": [
      "0.04359030723571777 s\n"
     ]
    }
   ],
   "source": [
    "OLS_regression_model_quadratic_R = LinearRegression(normalize=True)\n",
    "OLS_regression_model_quadratic_G = LinearRegression(normalize=True)\n",
    "OLS_regression_model_quadratic_B = LinearRegression(normalize=True)\n",
    "\n",
    "Ridge_regression_model_quadratic_R = Ridge(alpha=0.5, normalize=True)\n",
    "Ridge_regression_model_quadratic_G = Ridge(alpha=0.5, normalize=True)\n",
    "Ridge_regression_model_quadratic_B = Ridge(alpha=0.5, normalize=True)\n",
    "\n",
    "t0=time.time()\n",
    "OLS_regression_model_quadratic_R.fit( train_data.features_quadratic_addition, train_data.y_R)\n",
    "OLS_regression_model_quadratic_G.fit( train_data.features_quadratic_addition, train_data.y_G)\n",
    "OLS_regression_model_quadratic_B.fit( train_data.features_quadratic_addition, train_data.y_B)\n",
    "\n",
    "Ridge_regression_model_quadratic_R.fit( train_data.features_quadratic_addition, train_data.y_R)\n",
    "Ridge_regression_model_quadratic_G.fit( train_data.features_quadratic_addition, train_data.y_G)\n",
    "Ridge_regression_model_quadratic_B.fit( train_data.features_quadratic_addition, train_data.y_B)\n",
    "print(time.time() - t0, 's')"
   ]
  },
  {
   "cell_type": "markdown",
   "metadata": {},
   "source": [
    "### Get model predictions on validation set"
   ]
  },
  {
   "cell_type": "code",
   "execution_count": 5,
   "metadata": {
    "collapsed": false,
    "scrolled": true
   },
   "outputs": [],
   "source": [
    "validation_data = ColorModel.color_dataset('validation_features.dat')\n",
    "validation_data.convert_data_to_features()\n",
    "validation_data.linear_add_features()\n",
    "validation_data.quadratic_add_features()"
   ]
  },
  {
   "cell_type": "code",
   "execution_count": 6,
   "metadata": {
    "collapsed": false
   },
   "outputs": [],
   "source": [
    "validation_yR_linear_OLS = OLS_regression_model_linear_R.predict(validation_data.features_linear_addition)\n",
    "validation_yG_linear_OLS = OLS_regression_model_linear_G.predict(validation_data.features_linear_addition)\n",
    "validation_yB_linear_OLS = OLS_regression_model_linear_B.predict(validation_data.features_linear_addition)\n",
    "\n",
    "validation_yR_quadratic_OLS = OLS_regression_model_linear_R.predict(validation_data.features_quadratic_addition)\n",
    "validation_yG_quadratic_OLS = OLS_regression_model_linear_G.predict(validation_data.features_quadratic_addition)\n",
    "validation_yB_quadratic_OLS = OLS_regression_model_linear_B.predict(validation_data.features_quadratic_addition)\n",
    "\n",
    "validation_yR_linear_Ridge = Ridge_regression_model_linear_R.predict(validation_data.features_linear_addition)\n",
    "validation_yG_linear_Ridge = Ridge_regression_model_linear_G.predict(validation_data.features_linear_addition)\n",
    "validation_yB_linear_Ridge = Ridge_regression_model_linear_B.predict(validation_data.features_linear_addition)\n",
    "\n",
    "validation_yR_quadratic_Ridge = Ridge_regression_model_linear_R.predict(validation_data.features_quadratic_addition)\n",
    "validation_yG_quadratic_Ridge = Ridge_regression_model_linear_G.predict(validation_data.features_quadratic_addition)\n",
    "validation_yB_quadratic_Ridge = Ridge_regression_model_linear_B.predict(validation_data.features_quadratic_addition)\n",
    "\n",
    "validation_RGB_linear = np.vstack((validation_yR_linear_OLS, validation_yG_linear_OLS, validation_yB_linear_OLS)).T\n"
   ]
  },
  {
   "cell_type": "markdown",
   "metadata": {},
   "source": [
    "### Validate: compare R/G/B distance from actual 3rd color vs. randomly drawn color"
   ]
  },
  {
   "cell_type": "code",
   "execution_count": 7,
   "metadata": {
    "collapsed": false
   },
   "outputs": [],
   "source": [
    "validation_RGB_linear = np.vstack((validation_yR_linear_OLS, validation_yG_linear_OLS, validation_yB_linear_OLS)).T\n"
   ]
  },
  {
   "cell_type": "code",
   "execution_count": 29,
   "metadata": {
    "collapsed": false
   },
   "outputs": [],
   "source": [
    "random_colors = [ColorModel.random_RGB_color() for i in range(len(validation_RGB_linear))]\n",
    "random_R = np.array(random_colors).T[0]\n",
    "random_G = np.array(random_colors).T[1]\n",
    "random_B = np.array(random_colors).T[2]"
   ]
  },
  {
   "cell_type": "code",
   "execution_count": 37,
   "metadata": {
    "collapsed": false,
    "scrolled": false
   },
   "outputs": [],
   "source": [
    "dist_R_validation_model = ColorModel.single_color_distance(validation_yR_linear_OLS, validation_data.y_R)\n",
    "dist_R_random = ColorModel.single_color_distance(random_R, validation_data.y_R)\n",
    "dist_G_validation_model = ColorModel.single_color_distance(validation_yG_linear_OLS, validation_data.y_G)\n",
    "dist_G_random = ColorModel.single_color_distance(random_G, validation_data.y_G)\n",
    "dist_B_validation_model = ColorModel.single_color_distance(validation_yB_linear_OLS, validation_data.y_B)\n",
    "dist_B_random = ColorModel.single_color_distance(random_B, validation_data.y_B)\n",
    "\n",
    "dist_RGB_validation_model = np.sqrt( dist_R_validation_model**2 + dist_G_validation_model**2 + dist_B_validation_model**2)\n",
    "dist_RGB_random = np.sqrt( dist_R_random**2 + dist_G_random**2 + dist_B_random**2 )"
   ]
  },
  {
   "cell_type": "code",
   "execution_count": 39,
   "metadata": {
    "collapsed": false
   },
   "outputs": [
    {
     "name": "stdout",
     "output_type": "stream",
     "text": [
      "Mean R distance, model vs actual:  48.655175868\n",
      "Mean R distance, random vs actual:  80.8354247857 \n",
      "\n",
      "Mean G distance, model vs actual:  46.2610873157\n",
      "Mean G distance, random vs actual:  75.8979929852 \n",
      "\n",
      "Mean B distance, model vs actual:  44.0289601506\n",
      "Mean B distance, random vs actual:  74.8332424006 \n",
      "\n",
      "Mean total RGB distance, model vs actual,  86.0694245848\n",
      "Mean total RGB distance, random vs actual,  152.669984552\n"
     ]
    }
   ],
   "source": [
    "print('Mean R distance, model vs actual: ', np.mean(dist_R_validation_model))\n",
    "print('Mean R distance, random vs actual: ', np.mean(dist_R_random), '\\n')\n",
    "print('Mean G distance, model vs actual: ', np.mean(dist_G_validation_model))\n",
    "print('Mean G distance, random vs actual: ', np.mean(dist_G_random), '\\n')\n",
    "print('Mean B distance, model vs actual: ', np.mean(dist_B_validation_model))\n",
    "print('Mean B distance, random vs actual: ', np.mean(dist_B_random), '\\n')\n",
    "print('Mean total RGB distance, model vs actual, ', np.mean(dist_RGB_validation_model))\n",
    "print('Mean total RGB distance, random vs actual, ', np.mean(dist_RGB_random))\n"
   ]
  },
  {
   "cell_type": "markdown",
   "metadata": {},
   "source": [
    "#### Try different alphas for Ridge regression--doesn't do much"
   ]
  },
  {
   "cell_type": "code",
   "execution_count": 168,
   "metadata": {
    "collapsed": false
   },
   "outputs": [],
   "source": [
    "alphas=[1./(2**i) for i in range(10)]\n",
    "\n",
    "linear_dist = []\n",
    "quadratic_dist = []\n",
    "\n",
    "for alpha in alphas: \n",
    "    Ridge_regression_model_linear_R = Ridge(alpha=alpha, normalize=False)\n",
    "    Ridge_regression_model_linear_G = Ridge(alpha=alpha, normalize=False)\n",
    "    Ridge_regression_model_linear_B = Ridge(alpha=alpha, normalize=False)\n",
    "\n",
    "    Ridge_regression_model_quadratic_R = Ridge(alpha=alpha, normalize=True)\n",
    "    Ridge_regression_model_quadratic_G = Ridge(alpha=alpha, normalize=True)\n",
    "    Ridge_regression_model_quadratic_B = Ridge(alpha=alpha, normalize=True)\n",
    "\n",
    "    Ridge_regression_model_linear_R.fit( train_data.features_linear_addition, train_data.y_R)\n",
    "    Ridge_regression_model_linear_G.fit( train_data.features_linear_addition, train_data.y_G)\n",
    "    Ridge_regression_model_linear_B.fit( train_data.features_linear_addition, train_data.y_B)\n",
    "\n",
    "    Ridge_regression_model_quadratic_R.fit( train_data.features_quadratic_addition, train_data.y_R)\n",
    "    Ridge_regression_model_quadratic_G.fit( train_data.features_quadratic_addition, train_data.y_G)\n",
    "    Ridge_regression_model_quadratic_B.fit( train_data.features_quadratic_addition, train_data.y_B)\n",
    "\n",
    "    validation_yR_linear_Ridge = \\\n",
    "        Ridge_regression_model_linear_R.predict(validation_data.features_linear_addition)\n",
    "    validation_yG_linear_Ridge = \\\n",
    "        Ridge_regression_model_linear_G.predict(validation_data.features_linear_addition)\n",
    "    validation_yB_linear_Ridge = \\\n",
    "        Ridge_regression_model_linear_B.predict(validation_data.features_linear_addition)\n",
    "\n",
    "    validation_yR_quadratic_Ridge = \\\n",
    "        Ridge_regression_model_quadratic_R.predict(validation_data.features_quadratic_addition)\n",
    "    validation_yG_quadratic_Ridge = \\\n",
    "        Ridge_regression_model_quadratic_G.predict(validation_data.features_quadratic_addition)\n",
    "    validation_yB_quadratic_Ridge = \\\n",
    "        Ridge_regression_model_quadratic_B.predict(validation_data.features_quadratic_addition)\n",
    "    \n",
    "    \n",
    "    linear_dist_fixed_alpha=[]\n",
    "    quadratic_dist_fixed_alpha=[]\n",
    "    for i in range(len(validation_data.features_linear_addition)):\n",
    "        RGB_model = \\\n",
    "                (validation_yR_linear_Ridge[i], validation_yG_linear_Ridge[i], validation_yB_linear_Ridge)\n",
    "        RGB_data = \\\n",
    "                (validation_data.y_R[i], validation_data.y_G[i], validation_data.y_B[i])\n",
    "        linear_dist_fixed_alpha.append( ColorModel.RGB_distance( RGB_model, RGB_data ) )\n",
    "        \n",
    "        RGB_model = \\\n",
    "                (validation_yR_quadratic_Ridge[i], validation_yG_quadratic_Ridge[i], validation_yB_quadratic_Ridge)\n",
    "        \n",
    "        quadratic_dist_fixed_alpha.append( ColorModel.RGB_distance( RGB_model, RGB_data ) )\n",
    "        \n",
    "    linear_dist.append( np.mean(linear_dist_fixed_alpha))\n",
    "    quadratic_dist.append( np.mean(quadratic_dist_fixed_alpha))\n",
    "    "
   ]
  },
  {
   "cell_type": "code",
   "execution_count": null,
   "metadata": {
    "collapsed": true
   },
   "outputs": [],
   "source": []
  }
 ],
 "metadata": {
  "kernelspec": {
   "display_name": "Python 3",
   "language": "python",
   "name": "python3"
  },
  "language_info": {
   "codemirror_mode": {
    "name": "ipython",
    "version": 3
   },
   "file_extension": ".py",
   "mimetype": "text/x-python",
   "name": "python",
   "nbconvert_exporter": "python",
   "pygments_lexer": "ipython3",
   "version": "3.6.1"
  }
 },
 "nbformat": 4,
 "nbformat_minor": 0
}
