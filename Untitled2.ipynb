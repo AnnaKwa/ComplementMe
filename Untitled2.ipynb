{
 "cells": [
  {
   "cell_type": "code",
   "execution_count": 28,
   "metadata": {
    "collapsed": false
   },
   "outputs": [
    {
     "name": "stderr",
     "output_type": "stream",
     "text": [
      "/home/anna/anaconda3/envs/conda3_env/lib/python3.6/site-packages/matplotlib/__init__.py:841: UserWarning: Found matplotlib configuration in ~/.matplotlib/. To conform with the XDG base directory standard, this configuration location has been deprecated on Linux, and the new location is now /home/anna/.config/matplotlib/. Please move your configuration there to ensure that matplotlib will continue to find it in the future.\n",
      "  _get_xdg_config_dir())\n"
     ]
    }
   ],
   "source": [
    "from importlib import reload\n",
    "\n",
    "import ColorPalettes\n",
    "reload(ColorPalettes)\n",
    "from ColorPalettes import *\n"
   ]
  },
  {
   "cell_type": "code",
   "execution_count": 31,
   "metadata": {
    "collapsed": true
   },
   "outputs": [],
   "source": [
    "img1= load_img_from_url('http://ak1.polyvoreimg.com/cgi/img-set/cid/210981072/id/Eqx7MYuj5hGyW-yFO4xqOQ/size/y.jpg')"
   ]
  },
  {
   "cell_type": "code",
   "execution_count": 32,
   "metadata": {
    "collapsed": true
   },
   "outputs": [],
   "source": [
    "img1_colors = extract_colored_pixels(img1, grey_distance_threshold=15.)"
   ]
  },
  {
   "cell_type": "code",
   "execution_count": 33,
   "metadata": {
    "collapsed": false
   },
   "outputs": [],
   "source": [
    "hist, centroids = get_color_palette(img1_colors, num_clusters=4)"
   ]
  },
  {
   "cell_type": "code",
   "execution_count": 50,
   "metadata": {
    "collapsed": false
   },
   "outputs": [
    {
     "name": "stdout",
     "output_type": "stream",
     "text": [
      "0.516268507585 4.12906461141 86.9082735079 78.0107333896\n",
      "0.275401943864 242.890842515 159.477073299 49.1117965297\n",
      "0.090335180307 213.895054282 189.689485324 154.47929232\n",
      "0.117994368244 148.067559249 98.3634964605 68.8340258541\n"
     ]
    }
   ],
   "source": [
    "R,G,B=centroids.T[0], centroids.T[1], centroids.T[2]\n",
    "\n",
    "for i in range(len(hist)):\n",
    "    print(hist[i], R[i], G[i], B[i])"
   ]
  },
  {
   "cell_type": "code",
   "execution_count": 35,
   "metadata": {
    "collapsed": false,
    "scrolled": true
   },
   "outputs": [
    {
     "name": "stdout",
     "output_type": "stream",
     "text": [
      "0.516268507585 [  4.12906461  86.90827351  78.01073339]\n",
      "0.275401943864 [ 242.89084252  159.4770733    49.11179653]\n",
      "0.090335180307 [ 213.89505428  189.68948532  154.47929232]\n",
      "0.117994368244 [ 148.06755925   98.36349646   68.83402585]\n"
     ]
    },
    {
     "data": {
      "image/png": "[encoded data removed]",
      "text/plain": [
       "<matplotlib.figure.Figure at 0x7f4e608a62b0>"
      ]
     },
     "metadata": {},
     "output_type": "display_data"
    }
   ],
   "source": [
    "plot_palette(hist,centroids)"
   ]
  },
  {
   "cell_type": "code",
   "execution_count": 61,
   "metadata": {
    "collapsed": false
   },
   "outputs": [],
   "source": [
    "row=centroids.reshape(12) \n",
    "str1 = '  '.join(str(e) for e in row)"
   ]
  },
  {
   "cell_type": "code",
   "execution_count": 62,
   "metadata": {
    "collapsed": false
   },
   "outputs": [
    {
     "data": {
      "text/plain": [
       "'4.12906461141  86.9082735079  78.0107333896  242.890842515  159.477073299  49.1117965297  213.895054282  189.689485324  154.47929232  148.067559249  98.3634964605  68.8340258541'"
      ]
     },
     "execution_count": 62,
     "metadata": {},
     "output_type": "execute_result"
    }
   ],
   "source": [
    "str1"
   ]
  },
  {
   "cell_type": "code",
   "execution_count": 64,
   "metadata": {
    "collapsed": false
   },
   "outputs": [
    {
     "data": {
      "text/plain": [
       "'4.1 86.9 78.0 242.9 159.5 49.1 213.9 189.7 154.5 148.1 98.4 68.8'"
      ]
     },
     "execution_count": 64,
     "metadata": {},
     "output_type": "execute_result"
    }
   ],
   "source": [
    "' '.join( '{0:.{1}f}'.format(num, 1) for num in row)"
   ]
  },
  {
   "cell_type": "code",
   "execution_count": null,
   "metadata": {
    "collapsed": true
   },
   "outputs": [],
   "source": []
  }
 ],
 "metadata": {
  "kernelspec": {
   "display_name": "Python 3",
   "language": "python",
   "name": "python3"
  },
  "language_info": {
   "codemirror_mode": {
    "name": "ipython",
    "version": 3
   },
   "file_extension": ".py",
   "mimetype": "text/x-python",
   "name": "python",
   "nbconvert_exporter": "python",
   "pygments_lexer": "ipython3",
   "version": "3.6.1"
  }
 },
 "nbformat": 4,
 "nbformat_minor": 0
}
