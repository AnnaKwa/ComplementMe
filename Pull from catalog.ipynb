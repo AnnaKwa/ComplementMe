{
 "cells": [
  {
   "cell_type": "code",
   "execution_count": 1,
   "metadata": {
    "collapsed": false
   },
   "outputs": [
    {
     "name": "stdout",
     "output_type": "stream",
     "text": [
      "98\n"
     ]
    }
   ],
   "source": [
    "from bs4 import BeautifulSoup as Soup\n",
    "import urllib3\n",
    "import json\n",
    "import urllib\n",
    "import time\n",
    "import certifi\n",
    "\n",
    "from selenium import webdriver\n",
    "driver = webdriver.Chrome('./chromedriver')\n",
    "\n",
    "url='https://shop.nordstrom.com/sr?origin=keywordsearch&keyword=bold+handbag&page=1&top=100'\n",
    "#url = 'https://www.target.com/s?searchTerm=women+blouse#sortBy=relevance&Nao=0&limit=96'\n",
    "driver.get(url)\n",
    "soup = Soup(driver.page_source, 'html.parser')\n",
    "driver.quit()\n",
    "html_content = soup.prettify()\n",
    "\n",
    "\n",
    "#new_soup = Soup(html_content, 'lxml')\n",
    "\n",
    "# all img tags, only returns results of search\n",
    "imgs = soup.find_all('img')\n",
    "print( len(imgs))\n",
    "# loop through images and put src in links list\n",
    "for j in range(len(imgs)):\n",
    "    #if 'store/product' in imgs[j][\"src\"]:\n",
    "    #    links.append(imgs[j][\"src\"])\n",
    "    try:\n",
    "        links.append(imgs[j][\"src\"])\n",
    "    except:\n",
    "        pass"
   ]
  },
  {
   "cell_type": "code",
   "execution_count": 2,
   "metadata": {
    "collapsed": true
   },
   "outputs": [],
   "source": [
    "f=open('temp.html','w')\n",
    "print(html_content, file=f)\n",
    "f.close()"
   ]
  },
  {
   "cell_type": "code",
   "execution_count": 11,
   "metadata": {
    "collapsed": false,
    "scrolled": true
   },
   "outputs": [
    {
     "name": "stdout",
     "output_type": "stream",
     "text": [
      "https://nordstrom.com/s/sole-society-oversize-millie-tote/3766329?origin=keywordsearch-personalizedsort&fashioncolor=BLACK%20WHITE%20GEO\n",
      "https://nordstrom.com/s/chloe-small-faye-leather-shoulder-bag/3965292?origin=keywordsearch-personalizedsort&fashioncolor=INTENSE%20VIOLINE\n",
      "https://nordstrom.com/s/topshop-mini-lock-chain-trim-backpack/4883473?origin=keywordsearch-personalizedsort&fashioncolor=GREY\n",
      "https://nordstrom.com/s/prada-small-plex-shopper/4848330?origin=keywordsearch-personalizedsort&fashioncolor=SOLEIL\n",
      "https://nordstrom.com/s/burberry-small-burleigh-leather-crossbody-bag/4802561?origin=keywordsearch-personalizedsort&fashioncolor=BLACK\n",
      "https://nordstrom.com/s/chloe-faye-leather-suede-shoulder-bag/3965294?origin=keywordsearch-personalizedsort&fashioncolor=CLASSIC%20TOBACCO\n",
      "https://nordstrom.com/s/kate-spade-new-york-carlyle-street-marea-leather-hobo/4748048?origin=keywordsearch-personalizedsort&fashioncolor=PINK%20SUNSET\n",
      "https://nordstrom.com/s/mcm-medium-anya-tote/4499019?origin=keywordsearch-personalizedsort&fashioncolor=SOFT%20PINK\n",
      "https://nordstrom.com/s/mcm-large-shopper-project-coated-canvas-shopper/4371956?origin=keywordsearch-personalizedsort&fashioncolor=BLACK\n",
      "https://nordstrom.com/s/off-white-diagonal-stripe-mini-square-flap-bag/4783076?origin=keywordsearch-personalizedsort&fashioncolor=WHITE%2F%20BLACK\n",
      "https://nordstrom.com/s/celine-dion-octave-snake-embossed-leather-satchel/4757715?origin=keywordsearch-personalizedsort&fashioncolor=BLACK%20SNAKE\n",
      "https://nordstrom.com/s/salvatore-ferragamo-gancio-lock-leather-crossbody-bag/4806400?origin=keywordsearch-personalizedsort&fashioncolor=CORAL\n",
      "https://nordstrom.com/s/burberry-small-burleigh-leather-crossbody-bag/4805300?origin=keywordsearch-personalizedsort&fashioncolor=NEON%20YELLOW\n",
      "https://nordstrom.com/s/givenchy-small-sway-leather-satchel/4754344?origin=keywordsearch-personalizedsort&fashioncolor=OFF%20WHITE\n",
      "https://nordstrom.com/s/mcm-medium-liz-reversible-visetos-leather-shopper/4678843?origin=keywordsearch-personalizedsort&fashioncolor=BLACK\n",
      "https://nordstrom.com/s/moschino-logo-calfskin-leather-crossbody-bag/4807240?origin=keywordsearch-personalizedsort&fashioncolor=BLACK\n",
      "https://nordstrom.com/s/marc-jacobs-the-bold-grind-leather-pocket-tote/4707721?origin=keywordsearch-personalizedsort&fashioncolor=ANTIQUE%20WHITE\n",
      "https://nordstrom.com/s/rebecca-minkoff-isobel-phone-crossbody-bag-with-genuine-rabbit-fur-guitar-strap/4736423?origin=keywordsearch-personalizedsort&fashioncolor=PUTTY%20STRIPE\n",
      "https://nordstrom.com/s/clare-v-genuine-calf-hair-leopard-print-foldover-clutch/4107202?origin=keywordsearch-personalizedsort&fashioncolor=LEOPARD\n",
      "https://nordstrom.com/s/clare-v-genuine-calf-hair-foldover-clutch/4562400?origin=keywordsearch-personalizedsort&fashioncolor=SNOW%20CAT\n",
      "https://nordstrom.com/s/kate-spade-new-york-watson-lane-small-maya-nylon-tote/4701362?origin=keywordsearch-personalizedsort&fashioncolor=MULTI\n",
      "https://nordstrom.com/s/longchamp-3d-leather-hobo/3962998?origin=keywordsearch-personalizedsort&fashioncolor=MIDNIGHT\n",
      "https://nordstrom.com/s/prada-large-stripe-raffia-tote/4848318?origin=keywordsearch-personalizedsort&fashioncolor=NERO%2F%20TALCO\n",
      "https://nordstrom.com/s/clare-v-leopard-print-genuine-calf-hair-clutch/4570202?origin=keywordsearch-personalizedsort&fashioncolor=LEOPARD\n",
      "https://nordstrom.com/s/kate-spade-new-york-hyde-lane-small-riley-faux-leather-tote/4701305?origin=keywordsearch-personalizedsort&fashioncolor=CLASSIC%20CAMEL%2F%20CREAM\n",
      "https://nordstrom.com/s/burberry-medium-buckle-tote/4590002?origin=keywordsearch-personalizedsort&fashioncolor=DUSTY%20PINK\n",
      "https://nordstrom.com/s/burberry-medium-buckle-calfskin-leather-tote/4497872?origin=keywordsearch-personalizedsort&fashioncolor=BLUE%20CARBON\n",
      "https://nordstrom.com/s/steve-madden-resort-embellished-clutch/4845526?origin=keywordsearch-personalizedsort&fashioncolor=PINK%20MULTI\n",
      "https://nordstrom.com/s/kenzo-sport-logo-nylon-backpack/4797865?origin=keywordsearch-personalizedsort&fashioncolor=MEDIUM%20RED\n",
      "https://nordstrom.com/s/nordstrom-stripe-woven-cornhusk-tote/4718456?origin=keywordsearch-personalizedsort&fashioncolor=NAVY%2F%20NATURAL\n",
      "https://nordstrom.com/s/urban-originals-streetstyle-vegan-leather-tote/4662108?origin=keywordsearch-personalizedsort&fashioncolor=BLACK%2F%20GREEN\n",
      "https://nordstrom.com/s/givenchy-horizon-leather-tote/4754338?origin=keywordsearch-personalizedsort&fashioncolor=FUSHIA\n",
      "https://nordstrom.com/s/sole-society-coy-embroidered-clutch/4838702?origin=keywordsearch-personalizedsort&fashioncolor=BLACK%2F%20WHITE%20MULTI\n",
      "https://nordstrom.com/s/frances-valentine-large-leather-shoulder-bag/4655493?origin=keywordsearch-personalizedsort&fashioncolor=BLACK\n",
      "https://nordstrom.com/s/moschino-double-tape-leather-shopper/4717894?origin=keywordsearch-personalizedsort&fashioncolor=WHITE\n",
      "https://nordstrom.com/s/cathys-concepts-monogram-polka-dot-jute-tote/4030149?origin=keywordsearch-personalizedsort&fashioncolor=BLACK%20-%20C\n",
      "https://nordstrom.com/s/givenchy-medium-sway-leather-satchel/4754341?origin=keywordsearch-personalizedsort&fashioncolor=COGNAC\n",
      "https://nordstrom.com/s/balenciaga-medium-cabas-stripe-canvas-tote/4784491?origin=keywordsearch-personalizedsort&fashioncolor=NOIR%2F%20BLANC%2F%20NOIR\n",
      "https://nordstrom.com/s/chloe-small-faye-metallic-leather-shoulder-bag/4803927?origin=keywordsearch-personalizedsort&fashioncolor=GOLD\n",
      "https://nordstrom.com/s/stella-mccartney-alter-nappa-faux-leather-shoulder-bag/4782135?origin=keywordsearch-personalizedsort&fashioncolor=BLACK\n",
      "https://nordstrom.com/s/gucci-gg-supreme-canvas-tote-bag/4792016?origin=keywordsearch-personalizedsort&fashioncolor=BLACK\n",
      "https://nordstrom.com/s/stella-mccartney-falabella-go-shoulder-bag/4475102?origin=keywordsearch-personalizedsort&fashioncolor=BLACK\n",
      "https://nordstrom.com/s/coach-1941-dinky-quilted-leather-crossbody-bag/4781586?origin=keywordsearch-personalizedsort&fashioncolor=PRIMROSE\n",
      "https://nordstrom.com/s/alexander-mcqueen-calfskin-clutch/4707002?origin=keywordsearch-personalizedsort&fashioncolor=FUCSIA\n",
      "https://nordstrom.com/s/muche-et-muchette-large-half-moon-clutch/4850217?origin=keywordsearch-personalizedsort&fashioncolor=MULTI\n",
      "https://nordstrom.com/s/3-1-phillip-lim-oversize-tie-front-tote/4727506?origin=keywordsearch-personalizedsort&fashioncolor=INDIGO\n",
      "https://nordstrom.com/s/urban-originals-lola-perforated-vegan-leather-backpack/4346913?origin=keywordsearch-personalizedsort&fashioncolor=BLACK\n",
      "https://nordstrom.com/s/frances-valentine-small-ann-nylon-bucket-bag/4665768?origin=keywordsearch-personalizedsort&fashioncolor=BLACK\n",
      "https://nordstrom.com/s/stella-mccartney-small-falabella-shaggy-deer-star-faux-leather-tote/4782101?origin=keywordsearch-personalizedsort&fashioncolor=BLACK%2F%20GOLD\n",
      "https://nordstrom.com/s/balenciaga-large-panier-woven-tote-with-calfskin-leather-trim/4784493?origin=keywordsearch-personalizedsort&fashioncolor=NATURAL%2F%20NOIR\n",
      "https://nordstrom.com/s/valentino-garavani-rockstud-leather-top-handle-satchel/4570086?origin=keywordsearch-personalizedsort&fashioncolor=BLACK\n",
      "https://nordstrom.com/s/balenciaga-genuine-shearling-pouch/4703409?origin=keywordsearch-personalizedsort&fashioncolor=BLANC%2F%20NOIR\n",
      "https://nordstrom.com/s/stella-mccartney-alter-nappa-faux-leather-overnight-duffel/4782110?origin=keywordsearch-personalizedsort&fashioncolor=BLACK\n",
      "https://nordstrom.com/s/whiting-davis-heritage-poiret-mesh-clutch/4422416?origin=keywordsearch-personalizedsort&fashioncolor=MATTE%20GOLD%20MATTE%20SILVER\n",
      "https://nordstrom.com/s/calvin-klein-205w395nyc-small-calfskin-tote/4796251?origin=keywordsearch-personalizedsort&fashioncolor=BLACK\n",
      "https://nordstrom.com/s/moschino-2-d-graffiti-logo-shoulder-bag/4588444?origin=keywordsearch-personalizedsort&fashioncolor=BLACK\n",
      "https://nordstrom.com/s/alexander-wang-attica-leather-tote/4388217?origin=keywordsearch-personalizedsort&fashioncolor=BLACK\n",
      "https://nordstrom.com/s/givenchy-antigona-reversible-logo-tote/4754326?origin=keywordsearch-personalizedsort&fashioncolor=BLUE%2F%20SILVER\n",
      "https://nordstrom.com/s/balenciaga-x-small-panier-woven-tote/4784481?origin=keywordsearch-personalizedsort&fashioncolor=NATURAL%2F%20NOIR\n",
      "https://nordstrom.com/s/ghurka-smyth-ii-tote/4740308?origin=keywordsearch-personalizedsort&fashioncolor=GREEN%20CAMO%2F%20GUNMETAL%20STRIPE\n",
      "https://nordstrom.com/s/cathys-concepts-monogram-polka-dot-jute-tote/4033765?origin=keywordsearch-personalizedsort&fashioncolor=RED%20-%20R\n",
      "https://nordstrom.com/s/rosanna-pardon-my-french-tote-bag/4433726?origin=keywordsearch-personalizedsort&fashioncolor=PINK\n",
      "https://nordstrom.com/s/mcm-gunta-visetos-duffel-bag/4795659?origin=keywordsearch-personalizedsort&fashioncolor=BLACK\n",
      "https://nordstrom.com/s/ghurka-smyth-ii-tote/4740310?origin=keywordsearch-personalizedsort&fashioncolor=GREEN%20CAMO%2F%20BLUE%20STRIPE\n",
      "https://nordstrom.com/s/urban-originals-all-she-wants-vegan-leather-clutch/4662105?origin=keywordsearch-personalizedsort&fashioncolor=BLACK%2F%20GREEN\n",
      "https://nordstrom.com/s/stella-mccartney-small-falabella-shaggy-deer-star-faux-leather-shoulder-bag/4782091?origin=keywordsearch-personalizedsort&fashioncolor=BLACK%2F%20GOLD\n",
      "https://nordstrom.com/s/zac-zac-posen-mini-eartha-iconic-calfskin-suede-top-handle-satchel/4708021?origin=keywordsearch-personalizedsort&fashioncolor=OAT\n",
      "https://nordstrom.com/s/fendi-kan-i-logo-velvet-shoulder-bag/4700317?origin=keywordsearch-personalizedsort&fashioncolor=BLACK\n",
      "https://nordstrom.com/s/cathys-concepts-monogram-polka-dot-jute-tote/4033767?origin=keywordsearch-personalizedsort&fashioncolor=WHITE%20-%20Y\n",
      "https://nordstrom.com/s/fendi-petite-2jours-multi-stud-tote/4524051?origin=keywordsearch-personalizedsort&fashioncolor=WHITE%20MULTI\n",
      "https://nordstrom.com/s/ghurka-weston-ii-backpack/4740309?origin=keywordsearch-personalizedsort&fashioncolor=GREEN%20CAMO%2F%20GUNMETAL%20STRIPE\n",
      "https://nordstrom.com/s/fendi-genuine-snakeskin-leather-clutch/4632193?origin=keywordsearch-personalizedsort&fashioncolor=BORDEAUX%2FSKY\n",
      "https://nordstrom.com/s/calvin-klein-205w395nyc-large-whipstitch-calfskin-tote/4794441?origin=keywordsearch-personalizedsort&fashioncolor=BLACK\n",
      "https://nordstrom.com/s/ghurka-grove-stripe-leather-duffel-bag/4740316?origin=keywordsearch-personalizedsort&fashioncolor=BEIGE%2F%20PETROL%20STRIPE\n",
      "https://nordstrom.com/s/valentino-garavani-rockstud-leather-saddle-bag/4708554?origin=keywordsearch-personalizedsort&fashioncolor=NAVY\n",
      "https://nordstrom.com/s/fendi-bird-beaded-baguette/3913448?origin=keywordsearch-personalizedsort&fashioncolor=BLACK%2F%20MULTI\n",
      "https://nordstrom.com/s/frances-valentine-medium-ann-nylon-bucket-bag/4665761?origin=keywordsearch-personalizedsort&fashioncolor=BLACK\n",
      "https://nordstrom.com/s/balenciaga-city-graffiti-embellished-calfskin-wallet/4784518?origin=keywordsearch-personalizedsort&fashioncolor=NOIR%2F%20ARGENT\n",
      "https://nordstrom.com/s/givenchy-iconic-logo-degrade-suede-pouch/4754332?origin=keywordsearch-personalizedsort&fashioncolor=BLUE%2F%20SILVER\n",
      "https://nordstrom.com/s/frances-valentine-ann-small-suede-bucket/4665771?origin=keywordsearch-personalizedsort&fashioncolor=PINK\n",
      "https://nordstrom.com/s/cathys-concepts-personalized-ikat-jute-tote/4029600?origin=keywordsearch-personalizedsort&fashioncolor=BLACK%20-%20E\n",
      "https://nordstrom.com/s/nordstrom-stripe-faux-leather-wristlet/4713408?origin=keywordsearch-personalizedsort&fashioncolor=MULTI\n",
      "https://nordstrom.com/s/moschino-studded-leather-tote/4524587?origin=keywordsearch-personalizedsort&fashioncolor=BLACK%2FNICKEL\n",
      "https://nordstrom.com/s/calvin-klein-205w39nyc-small-genuine-python-tote/4796261?origin=keywordsearch-personalizedsort&fashioncolor=WHITE\n",
      "https://nordstrom.com/s/givenchy-small-pandora-degrade-suede-leather-satchel/4754307?origin=keywordsearch-personalizedsort&fashioncolor=MORROCCAN%20BLUE\n",
      "https://nordstrom.com/s/sole-society-oversize-millie-stripe-print-tote/4253524?origin=keywordsearch-personalizedsort&fashioncolor=NAVY%20CREAM\n",
      "https://nordstrom.com/s/balenciaga-classic-city-stripe-leather-tote/4784521?origin=keywordsearch-personalizedsort&fashioncolor=VERT%2F%20GRIS%20FOSSIL%2F%20NOIR%2F%20BLANC\n",
      "https://nordstrom.com/s/calvin-klein-205w39nyc-genuine-calf-hair-shoulder-bag/4796258?origin=keywordsearch-personalizedsort&fashioncolor=WHITE%2F%20BLACK\n",
      "https://nordstrom.com/s/calvin-klein-205w395nyc-genuine-calf-hair-tote/4796252?origin=keywordsearch-personalizedsort&fashioncolor=WHITE%2F%20BLACK\n",
      "https://nordstrom.com/s/loeffler-randall-ruffle-clutch/4846571?origin=keywordsearch-personalizedsort&fashioncolor=DUSTY%20ROSE\n",
      "https://nordstrom.com/s/coach-1941-leather-saddle-bag/4563234?origin=keywordsearch-personalizedsort&fashioncolor=BLACK\n"
     ]
    }
   ],
   "source": [
    "imgs = soup.find_all('img')\n",
    "links=[]# loop through images and put src in links list\n",
    "for j in range(len(imgs)):\n",
    "    if 'store/product' in imgs[j][\"src\"]:\n",
    "        try:\n",
    "            links.append(imgs[j][\"src\"])\n",
    "            parent_product=(imgs[j].parent)\n",
    "            print('https://nordstrom.com'+parent_product[\"href\"])\n",
    "        except:\n",
    "            pass"
   ]
  },
  {
   "cell_type": "code",
   "execution_count": null,
   "metadata": {
    "collapsed": true
   },
   "outputs": [],
   "source": []
  }
 ],
 "metadata": {
  "kernelspec": {
   "display_name": "Python 3",
   "language": "python",
   "name": "python3"
  },
  "language_info": {
   "codemirror_mode": {
    "name": "ipython",
    "version": 3
   },
   "file_extension": ".py",
   "mimetype": "text/x-python",
   "name": "python",
   "nbconvert_exporter": "python",
   "pygments_lexer": "ipython3",
   "version": "3.6.1"
  }
 },
 "nbformat": 4,
 "nbformat_minor": 0
}
