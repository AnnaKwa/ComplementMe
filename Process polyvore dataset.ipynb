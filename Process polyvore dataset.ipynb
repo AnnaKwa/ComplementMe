{
 "cells": [
  {
   "cell_type": "code",
   "execution_count": 102,
   "metadata": {
    "collapsed": false,
    "scrolled": true
   },
   "outputs": [],
   "source": [
    "import json\n",
    "import random\n",
    "from shutil import copyfile\n",
    "from importlib import reload\n",
    "from IPython.display import clear_output\n",
    "\n",
    "import ColorPalettes\n",
    "reload(ColorPalettes)\n",
    "from ColorPalettes import *\n"
   ]
  },
  {
   "cell_type": "markdown",
   "metadata": {},
   "source": [
    "### Load all image urls from polyvore dataset"
   ]
  },
  {
   "cell_type": "code",
   "execution_count": 75,
   "metadata": {
    "collapsed": false
   },
   "outputs": [
    {
     "name": "stdout",
     "output_type": "stream",
     "text": [
      "http://ak2.polyvoreimg.com/cgi/img-set/cid/209512492/id/AuPZQTKP5hGMvphytfvecw/size/y.jpg\n"
     ]
    }
   ],
   "source": [
    "\n",
    "all_outfits=[]\n",
    "\n",
    "filenames=['polyvore_data/'+filename+'.json' for filename in ['valid_no_dup', 'test_no_dup', 'train_no_dup']]\n",
    "\n",
    "for filename in filenames:\n",
    "    with open(filename) as data_file:    \n",
    "        data = json.load(data_file)\n",
    "        all_outfits += [data[i]['image'] for i in range(len(data))]\n",
    "        del data\n",
    "\n",
    "print(all_outfits[0])"
   ]
  },
  {
   "cell_type": "markdown",
   "metadata": {},
   "source": [
    "### Split data into train/test/validate sets and save urls to file"
   ]
  },
  {
   "cell_type": "code",
   "execution_count": 76,
   "metadata": {
    "collapsed": false
   },
   "outputs": [
    {
     "name": "stdout",
     "output_type": "stream",
     "text": [
      "http://ak1.polyvoreimg.com/cgi/img-set/cid/211538096/id/Clkdb0Cr5hG9BUgiE83bcg/size/y.jpg\n"
     ]
    }
   ],
   "source": [
    "TRAIN_FRAC = .8\n",
    "TEST_FRAC = .14\n",
    "VALIDATE_FRAC = .06\n",
    "\n",
    "random.seed(1989)\n",
    "random.shuffle(all_outfits)\n",
    "print(all_outfits[0])"
   ]
  },
  {
   "cell_type": "code",
   "execution_count": 79,
   "metadata": {
    "collapsed": false
   },
   "outputs": [
    {
     "name": "stdout",
     "output_type": "stream",
     "text": [
      "21889  total items in dataset.\n"
     ]
    }
   ],
   "source": [
    "Noutfits = len(all_outfits)\n",
    "print(Noutfits, ' total items in dataset.')\n",
    "\n",
    "Ntrain = int(TRAIN_FRAC*Noutfits)\n",
    "Ntest = int(TEST_FRAC*Noutfits)\n",
    "Nvalidate = Noutfits-Ntrain-Ntest\n",
    "\n",
    "train_set = all_outfits[:Ntrain]\n",
    "test_set = all_outfits[Ntrain:Ntrain+Ntest]\n",
    "validate_set = all_outfits[Ntrain+Ntest:]\n"
   ]
  },
  {
   "cell_type": "code",
   "execution_count": 80,
   "metadata": {
    "collapsed": false
   },
   "outputs": [],
   "source": [
    "savefiles=['polyvore_train_set_urls.txt', 'polyvore_test_set_urls.txt', 'polyvore_validate_set_urls.txt']\n",
    "splitsets=[train_set, test_set, validate_set]\n",
    "\n",
    "for i,savefile in enumerate(savefiles):\n",
    "    f=open(savefile, 'w')\n",
    "    dataset=splitsets[i]\n",
    "    for entry in dataset:\n",
    "        print(entry, file=f)\n",
    "    f.close()"
   ]
  },
  {
   "cell_type": "markdown",
   "metadata": {},
   "source": [
    "### Save color palettes from each image"
   ]
  },
  {
   "cell_type": "code",
   "execution_count": 109,
   "metadata": {
    "collapsed": true
   },
   "outputs": [
    {
     "name": "stdout",
     "output_type": "stream",
     "text": [
      "99 / 1314  processed\n"
     ]
    },
    {
     "name": "stderr",
     "output_type": "stream",
     "text": [
      "/home/anna/anaconda3/envs/conda3_env/lib/python3.6/site-packages/sklearn/utils/validation.py:395: DeprecationWarning: Passing 1d arrays as data is deprecated in 0.17 and will raise ValueError in 0.19. Reshape your data either using X.reshape(-1, 1) if your data has a single feature or X.reshape(1, -1) if it contains a single sample.\n",
      "  DeprecationWarning)\n",
      "/home/anna/anaconda3/envs/conda3_env/lib/python3.6/site-packages/sklearn/utils/validation.py:395: DeprecationWarning: Passing 1d arrays as data is deprecated in 0.17 and will raise ValueError in 0.19. Reshape your data either using X.reshape(-1, 1) if your data has a single feature or X.reshape(1, -1) if it contains a single sample.\n",
      "  DeprecationWarning)\n",
      "/home/anna/anaconda3/envs/conda3_env/lib/python3.6/site-packages/sklearn/utils/validation.py:395: DeprecationWarning: Passing 1d arrays as data is deprecated in 0.17 and will raise ValueError in 0.19. Reshape your data either using X.reshape(-1, 1) if your data has a single feature or X.reshape(1, -1) if it contains a single sample.\n",
      "  DeprecationWarning)\n",
      "/home/anna/anaconda3/envs/conda3_env/lib/python3.6/site-packages/sklearn/utils/validation.py:395: DeprecationWarning: Passing 1d arrays as data is deprecated in 0.17 and will raise ValueError in 0.19. Reshape your data either using X.reshape(-1, 1) if your data has a single feature or X.reshape(1, -1) if it contains a single sample.\n",
      "  DeprecationWarning)\n",
      "/home/anna/anaconda3/envs/conda3_env/lib/python3.6/site-packages/sklearn/utils/validation.py:395: DeprecationWarning: Passing 1d arrays as data is deprecated in 0.17 and will raise ValueError in 0.19. Reshape your data either using X.reshape(-1, 1) if your data has a single feature or X.reshape(1, -1) if it contains a single sample.\n",
      "  DeprecationWarning)\n",
      "/home/anna/anaconda3/envs/conda3_env/lib/python3.6/site-packages/sklearn/utils/validation.py:395: DeprecationWarning: Passing 1d arrays as data is deprecated in 0.17 and will raise ValueError in 0.19. Reshape your data either using X.reshape(-1, 1) if your data has a single feature or X.reshape(1, -1) if it contains a single sample.\n",
      "  DeprecationWarning)\n",
      "/home/anna/anaconda3/envs/conda3_env/lib/python3.6/site-packages/sklearn/utils/validation.py:395: DeprecationWarning: Passing 1d arrays as data is deprecated in 0.17 and will raise ValueError in 0.19. Reshape your data either using X.reshape(-1, 1) if your data has a single feature or X.reshape(1, -1) if it contains a single sample.\n",
      "  DeprecationWarning)\n",
      "/home/anna/anaconda3/envs/conda3_env/lib/python3.6/site-packages/sklearn/utils/validation.py:395: DeprecationWarning: Passing 1d arrays as data is deprecated in 0.17 and will raise ValueError in 0.19. Reshape your data either using X.reshape(-1, 1) if your data has a single feature or X.reshape(1, -1) if it contains a single sample.\n",
      "  DeprecationWarning)\n",
      "/home/anna/anaconda3/envs/conda3_env/lib/python3.6/site-packages/sklearn/utils/validation.py:395: DeprecationWarning: Passing 1d arrays as data is deprecated in 0.17 and will raise ValueError in 0.19. Reshape your data either using X.reshape(-1, 1) if your data has a single feature or X.reshape(1, -1) if it contains a single sample.\n",
      "  DeprecationWarning)\n",
      "/home/anna/anaconda3/envs/conda3_env/lib/python3.6/site-packages/sklearn/utils/validation.py:395: DeprecationWarning: Passing 1d arrays as data is deprecated in 0.17 and will raise ValueError in 0.19. Reshape your data either using X.reshape(-1, 1) if your data has a single feature or X.reshape(1, -1) if it contains a single sample.\n",
      "  DeprecationWarning)\n",
      "/home/anna/anaconda3/envs/conda3_env/lib/python3.6/site-packages/sklearn/utils/validation.py:395: DeprecationWarning: Passing 1d arrays as data is deprecated in 0.17 and will raise ValueError in 0.19. Reshape your data either using X.reshape(-1, 1) if your data has a single feature or X.reshape(1, -1) if it contains a single sample.\n",
      "  DeprecationWarning)\n",
      "/home/anna/anaconda3/envs/conda3_env/lib/python3.6/site-packages/sklearn/utils/validation.py:395: DeprecationWarning: Passing 1d arrays as data is deprecated in 0.17 and will raise ValueError in 0.19. Reshape your data either using X.reshape(-1, 1) if your data has a single feature or X.reshape(1, -1) if it contains a single sample.\n",
      "  DeprecationWarning)\n",
      "/home/anna/anaconda3/envs/conda3_env/lib/python3.6/site-packages/sklearn/utils/validation.py:395: DeprecationWarning: Passing 1d arrays as data is deprecated in 0.17 and will raise ValueError in 0.19. Reshape your data either using X.reshape(-1, 1) if your data has a single feature or X.reshape(1, -1) if it contains a single sample.\n",
      "  DeprecationWarning)\n",
      "/home/anna/anaconda3/envs/conda3_env/lib/python3.6/site-packages/sklearn/utils/validation.py:395: DeprecationWarning: Passing 1d arrays as data is deprecated in 0.17 and will raise ValueError in 0.19. Reshape your data either using X.reshape(-1, 1) if your data has a single feature or X.reshape(1, -1) if it contains a single sample.\n",
      "  DeprecationWarning)\n",
      "/home/anna/anaconda3/envs/conda3_env/lib/python3.6/site-packages/sklearn/utils/validation.py:395: DeprecationWarning: Passing 1d arrays as data is deprecated in 0.17 and will raise ValueError in 0.19. Reshape your data either using X.reshape(-1, 1) if your data has a single feature or X.reshape(1, -1) if it contains a single sample.\n",
      "  DeprecationWarning)\n",
      "/home/anna/anaconda3/envs/conda3_env/lib/python3.6/site-packages/sklearn/utils/validation.py:395: DeprecationWarning: Passing 1d arrays as data is deprecated in 0.17 and will raise ValueError in 0.19. Reshape your data either using X.reshape(-1, 1) if your data has a single feature or X.reshape(1, -1) if it contains a single sample.\n",
      "  DeprecationWarning)\n",
      "/home/anna/anaconda3/envs/conda3_env/lib/python3.6/site-packages/sklearn/utils/validation.py:395: DeprecationWarning: Passing 1d arrays as data is deprecated in 0.17 and will raise ValueError in 0.19. Reshape your data either using X.reshape(-1, 1) if your data has a single feature or X.reshape(1, -1) if it contains a single sample.\n",
      "  DeprecationWarning)\n",
      "/home/anna/anaconda3/envs/conda3_env/lib/python3.6/site-packages/sklearn/utils/validation.py:395: DeprecationWarning: Passing 1d arrays as data is deprecated in 0.17 and will raise ValueError in 0.19. Reshape your data either using X.reshape(-1, 1) if your data has a single feature or X.reshape(1, -1) if it contains a single sample.\n",
      "  DeprecationWarning)\n",
      "/home/anna/anaconda3/envs/conda3_env/lib/python3.6/site-packages/sklearn/utils/validation.py:395: DeprecationWarning: Passing 1d arrays as data is deprecated in 0.17 and will raise ValueError in 0.19. Reshape your data either using X.reshape(-1, 1) if your data has a single feature or X.reshape(1, -1) if it contains a single sample.\n",
      "  DeprecationWarning)\n",
      "/home/anna/anaconda3/envs/conda3_env/lib/python3.6/site-packages/sklearn/utils/validation.py:395: DeprecationWarning: Passing 1d arrays as data is deprecated in 0.17 and will raise ValueError in 0.19. Reshape your data either using X.reshape(-1, 1) if your data has a single feature or X.reshape(1, -1) if it contains a single sample.\n",
      "  DeprecationWarning)\n",
      "/home/anna/anaconda3/envs/conda3_env/lib/python3.6/site-packages/sklearn/utils/validation.py:395: DeprecationWarning: Passing 1d arrays as data is deprecated in 0.17 and will raise ValueError in 0.19. Reshape your data either using X.reshape(-1, 1) if your data has a single feature or X.reshape(1, -1) if it contains a single sample.\n",
      "  DeprecationWarning)\n",
      "/home/anna/anaconda3/envs/conda3_env/lib/python3.6/site-packages/sklearn/utils/validation.py:395: DeprecationWarning: Passing 1d arrays as data is deprecated in 0.17 and will raise ValueError in 0.19. Reshape your data either using X.reshape(-1, 1) if your data has a single feature or X.reshape(1, -1) if it contains a single sample.\n",
      "  DeprecationWarning)\n",
      "/home/anna/anaconda3/envs/conda3_env/lib/python3.6/site-packages/sklearn/utils/validation.py:395: DeprecationWarning: Passing 1d arrays as data is deprecated in 0.17 and will raise ValueError in 0.19. Reshape your data either using X.reshape(-1, 1) if your data has a single feature or X.reshape(1, -1) if it contains a single sample.\n",
      "  DeprecationWarning)\n",
      "/home/anna/anaconda3/envs/conda3_env/lib/python3.6/site-packages/sklearn/utils/validation.py:395: DeprecationWarning: Passing 1d arrays as data is deprecated in 0.17 and will raise ValueError in 0.19. Reshape your data either using X.reshape(-1, 1) if your data has a single feature or X.reshape(1, -1) if it contains a single sample.\n",
      "  DeprecationWarning)\n",
      "/home/anna/anaconda3/envs/conda3_env/lib/python3.6/site-packages/sklearn/utils/validation.py:395: DeprecationWarning: Passing 1d arrays as data is deprecated in 0.17 and will raise ValueError in 0.19. Reshape your data either using X.reshape(-1, 1) if your data has a single feature or X.reshape(1, -1) if it contains a single sample.\n",
      "  DeprecationWarning)\n"
     ]
    }
   ],
   "source": [
    "N_COLOR_CLUSTERS=4\n",
    "\n",
    "# training set\n",
    "url_file = 'polyvore_validate_set_urls.txt'\n",
    "f = open(url_file, 'r') \n",
    "lines = f.readlines()\n",
    "urls = [line.strip('\\n') for line in lines]\n",
    "\n",
    "\n",
    "#f=open('validation_features.dat','a')\n",
    "#print('# each set of 3 columns is R/G/B for one color', file=f)\n",
    "#print('# ex. R1, G1, B1, R2, G2, B2, ...', file=f)\n",
    "#f.close()\n",
    "\n",
    "N_images=len(urls)\n",
    "\n",
    "for i in range(39, len(urls)):\n",
    "    url =urls[i]\n",
    "    try:\n",
    "        img = load_img_from_url(url)\n",
    "        img_colors = extract_colored_pixels(img, grey_distance_threshold=15.)\n",
    "        centroids = get_color_palette(img_colors, num_clusters=N_COLOR_CLUSTERS)\n",
    "        row_array = centroids.reshape(N_COLOR_CLUSTERS*3)\n",
    "        row_string = ' '.join( '{0:.{1}f}'.format(num, 1) for num in row_array)\n",
    "\n",
    "        f=open('validation_features.dat','a')\n",
    "        print(row_string, file=f)\n",
    "        f.close()\n",
    "\n",
    "        if i%100==0:\n",
    "            copyfile('validation_features.dat', 'validation_features_backup.dat')\n",
    "            clear_output()\n",
    "            print(i,'/',N_images,' processed')\n",
    "            \n",
    "    except:\n",
    "        pass\n"
   ]
  },
  {
   "cell_type": "code",
   "execution_count": 112,
   "metadata": {
    "collapsed": false,
    "scrolled": true
   },
   "outputs": [
    {
     "name": "stdout",
     "output_type": "stream",
     "text": [
      "17500 / 17511  processed\n"
     ]
    }
   ],
   "source": [
    "N_COLOR_CLUSTERS=4\n",
    "\n",
    "# training set\n",
    "url_file = 'polyvore_train_set_urls.txt'\n",
    "f = open(url_file, 'r') \n",
    "lines = f.readlines()\n",
    "urls = [line.strip('\\n') for line in lines]\n",
    "\n",
    "\n",
    "#f=open('validation_features.dat','a')\n",
    "#print('# each set of 3 columns is R/G/B for one color', file=f)\n",
    "#print('# ex. R1, G1, B1, R2, G2, B2, ...', file=f)\n",
    "#f.close()\n",
    "\n",
    "N_images=len(urls)\n",
    "\n",
    "for i in range(0, len(urls)):\n",
    "    url =urls[i]\n",
    "    try:\n",
    "        img = load_img_from_url(url)\n",
    "        img_colors = extract_colored_pixels(img, grey_distance_threshold=15.)\n",
    "        centroids = get_color_palette(img_colors, num_clusters=N_COLOR_CLUSTERS)\n",
    "        row_array = centroids.reshape(N_COLOR_CLUSTERS*3)\n",
    "        row_string = ' '.join( '{0:.{1}f}'.format(num, 1) for num in row_array)\n",
    "\n",
    "        f=open('train_features.dat','a')\n",
    "        print(row_string, file=f)\n",
    "        f.close()\n",
    "\n",
    "        if i%100==0:\n",
    "            copyfile('train_features.dat', 'train_features_backup.dat')\n",
    "            clear_output()\n",
    "            print(i,'/',N_images,' processed')\n",
    "\n",
    "    except:\n",
    "        pass\n"
   ]
  },
  {
   "cell_type": "code",
   "execution_count": null,
   "metadata": {
    "collapsed": true
   },
   "outputs": [],
   "source": []
  }
 ],
 "metadata": {
  "kernelspec": {
   "display_name": "Python 3",
   "language": "python",
   "name": "python3"
  },
  "language_info": {
   "codemirror_mode": {
    "name": "ipython",
    "version": 3
   },
   "file_extension": ".py",
   "mimetype": "text/x-python",
   "name": "python",
   "nbconvert_exporter": "python",
   "pygments_lexer": "ipython3",
   "version": "3.6.1"
  }
 },
 "nbformat": 4,
 "nbformat_minor": 0
}
