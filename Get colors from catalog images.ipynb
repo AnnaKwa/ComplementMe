{
 "cells": [
  {
   "cell_type": "code",
   "execution_count": 29,
   "metadata": {
    "collapsed": false
   },
   "outputs": [],
   "source": [
    "from importlib import reload\n",
    "from sqlalchemy import create_engine\n",
    "from sqlalchemy_utils import database_exists, create_database\n",
    "import psycopg2\n",
    "import pandas as pd\n",
    "import numpy as np\n",
    "\n",
    "\n",
    "\n",
    "import ColorPalettes\n",
    "reload(ColorPalettes)\n",
    "from ColorPalettes import *\n"
   ]
  },
  {
   "cell_type": "code",
   "execution_count": 4,
   "metadata": {
    "collapsed": false
   },
   "outputs": [],
   "source": [
    "# Connect to make queries using psycopg2\n",
    "\n",
    "username = 'postgres'\n",
    "password = 'postgres'\n",
    "host     = 'localhost'\n",
    "port     = '5432'            # default port that postgres listens on\n",
    "db_name  = 'clothing'\n",
    "\n",
    "con = None\n",
    "con = psycopg2.connect(database = db_name, user ='postgres', password='postgres', host='localhost')\n",
    "\n",
    "sql_query = \"\"\"\n",
    "SELECT * FROM clothing ;\n",
    "\"\"\"\n",
    "\n",
    "# save in pandas df\n",
    "clothes_df = pd.read_sql_query(sql_query,con)\n"
   ]
  },
  {
   "cell_type": "code",
   "execution_count": 15,
   "metadata": {
    "collapsed": true
   },
   "outputs": [],
   "source": [
    "from PIL import Image\n",
    "\n",
    "def crop_torso_Nordstrom_img(img_url):\n",
    "    '''\n",
    "    reads image from Nordstrom url, \n",
    "    crops heightwise to torso,\n",
    "    and returns it as a numpy array of RGB values\n",
    "    Nordstrom shirt images are all 480 wide x 736 high\n",
    "    '''\n",
    "    response = requests.get(img_url)\n",
    "    imgobj = Image.open(BytesIO(response.content))\n",
    "    \n",
    "    #param coords: A tuple of x/y coordinates (x1, y1, x2, y2)\n",
    "    return np.array(imgobj)"
   ]
  },
  {
   "cell_type": "code",
   "execution_count": 34,
   "metadata": {
    "collapsed": false
   },
   "outputs": [],
   "source": [
    "N_COLOR_CLUSTERS = 4\n",
    "\n",
    "#for i in range(len(clothes_df)):\n",
    "for i in range(50,60):\n",
    "    img_url = clothes_df.iloc[i]['image_url']\n",
    "    img = ColorPalettes.load_img_from_url(img_url)\n",
    "    try:\n",
    "        img_colors = ColorPalettes.extract_colored_pixels(img, grey_distance_threshold=1.)\n",
    "        centroids = ColorPalettes.get_color_palette(img_colors, num_clusters=N_COLOR_CLUSTERS)\n",
    "    except:\n",
    "        print(img_url)"
   ]
  },
  {
   "cell_type": "code",
   "execution_count": 31,
   "metadata": {
    "collapsed": false
   },
   "outputs": [
    {
     "data": {
      "text/plain": [
       "368.0"
      ]
     },
     "execution_count": 31,
     "metadata": {},
     "output_type": "execute_result"
    }
   ],
   "source": [
    "736/2"
   ]
  },
  {
   "cell_type": "code",
   "execution_count": null,
   "metadata": {
    "collapsed": true
   },
   "outputs": [],
   "source": []
  }
 ],
 "metadata": {
  "kernelspec": {
   "display_name": "Python 3",
   "language": "python",
   "name": "python3"
  },
  "language_info": {
   "codemirror_mode": {
    "name": "ipython",
    "version": 3
   },
   "file_extension": ".py",
   "mimetype": "text/x-python",
   "name": "python",
   "nbconvert_exporter": "python",
   "pygments_lexer": "ipython3",
   "version": "3.6.1"
  }
 },
 "nbformat": 4,
 "nbformat_minor": 0
}
