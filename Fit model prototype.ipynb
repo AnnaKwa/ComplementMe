{
 "cells": [
  {
   "cell_type": "code",
   "execution_count": 1,
   "metadata": {
    "collapsed": true
   },
   "outputs": [],
   "source": [
    "import numpy as np\n",
    "import random\n",
    "import time\n",
    "\n",
    "from sklearn.linear_model import LinearRegression\n"
   ]
  },
  {
   "cell_type": "markdown",
   "metadata": {},
   "source": [
    "### combine RGB and std into feature for each color "
   ]
  },
  {
   "cell_type": "code",
   "execution_count": 2,
   "metadata": {
    "collapsed": false
   },
   "outputs": [],
   "source": [
    "r1,g1,b1, r2,g2,b2, r3,g3,b3, r4,g4,b4 =np.loadtxt('train_features.dat',unpack=True)\n",
    "\n",
    "rgb1 = np.vstack((r1,g1,b1)).T\n",
    "rgb2 = np.vstack((r2,g2,b2)).T\n",
    "rgb3 = np.vstack((r3,g3,b3)).T \n",
    "rgb4 = np.vstack((r4,g4,b4)).T\n",
    "\n",
    "std1 = [np.std(color) for color in rgb1]\n",
    "std2 = [np.std(color) for color in rgb2]\n",
    "std3 = [np.std(color) for color in rgb3]\n",
    "std4 = [np.std(color) for color in rgb4]\n",
    "\n",
    "x1 = np.vstack( (rgb1.T, std1) ).T\n",
    "x2 = np.vstack( (rgb2.T, std2) ).T\n",
    "x3 = np.vstack( (rgb3.T, std3) ).T\n",
    "x4 = np.vstack( (rgb4.T, std4) ).T\n",
    "\n"
   ]
  },
  {
   "cell_type": "markdown",
   "metadata": {},
   "source": [
    "### Separate color palette into X and y\n",
    "\n",
    "1. Pick 3 out of 4 colors to use for training model-- do this twice for each palette\n",
    "\n",
    "2. Pick 2 out of 3 as X, other color is Y--do twice for each palette\n",
    "\n",
    "3. Interchange order of X colors (Y should not depend on the order of input colors)\n",
    "\n",
    "Gives 8 rows of X/y for each palette"
   ]
  },
  {
   "cell_type": "code",
   "execution_count": 3,
   "metadata": {
    "collapsed": false,
    "scrolled": true
   },
   "outputs": [],
   "source": [
    "def pick_three_from_palette( c1,c2,c3,c4):\n",
    "    # c1,...,c4 are one row from x1,...,x4 arrays (where each row c is r,g,b,std of a different image)\n",
    "    (exclude1, exclude2) = random.sample([0,1,2,3],2)\n",
    "    colors = [c1,c2,c3,c4]\n",
    "    set1 = np.array( [list(colors[i]) for i in range(4) if i!=exclude1 ])\n",
    "    set2 = np.array( [list(colors[i]) for i in range(4) if i!=exclude2 ])\n",
    "    return( set1, set2)\n",
    "\n",
    "def pick_two_from_three(setofthree):\n",
    "    (exclude1, exclude2) = random.sample([0,1,2],2)\n",
    "    X1 = [list(setofthree[i]) for i in range(3) if i!=exclude1 ]\n",
    "    y1 = setofthree[exclude1]\n",
    "    X2 = [list(setofthree[i]) for i in range(3) if i!=exclude2 ]\n",
    "    y2 = setofthree[exclude2]\n",
    "    return (np.array(X1), np.array(X2), y1, y2)\n",
    "\n",
    "def interchange_x_colors(X):\n",
    "    X_reversed = np.array(list(reversed(X)))\n",
    "    return (X.reshape(8) , X_reversed.reshape(8)) "
   ]
  },
  {
   "cell_type": "code",
   "execution_count": 216,
   "metadata": {
    "collapsed": false
   },
   "outputs": [],
   "source": [
    "full_X_list=[]\n",
    "full_y_list=[]\n",
    "\n",
    "for i in range(len(x1)):\n",
    "\n",
    "    set1, set2 = pick_three_from_palette(x1[i], x2[i], x3[i], x4[i])\n",
    "    for set in [set1, set2]:\n",
    "        X1, X2, y1, y2 = pick_two_from_three(set)\n",
    "\n",
    "        for (x,y) in [(X1,y1), (X2,y2)]:\n",
    "            #print(y)\n",
    "            Xa, Xb = interchange_x_colors(x)\n",
    "            full_X_list.append(Xa)\n",
    "            full_y_list.append(y)\n",
    "            full_X_list.append(Xb)\n",
    "            full_y_list.append(y)\n",
    "\n",
    "(y_R, y_G, y_B, y_std) = np.array(full_y_list).T"
   ]
  },
  {
   "cell_type": "code",
   "execution_count": 220,
   "metadata": {
    "collapsed": false,
    "scrolled": true
   },
   "outputs": [],
   "source": [
    "full_X_list=[]\n",
    "full_y_list=[]\n",
    "\n",
    "for i in range(len(x1)):\n",
    "    set1, set2 = pick_three_from_palette(x1[i], x2[i], x3[i], x4[i])\n",
    "    for set in [set1, set2]:\n",
    "        X1, X2, y1, y2 = pick_two_from_three(set)\n",
    "        full_X_list.append(X1.reshape(8))\n",
    "        full_y_list.append(y1)\n",
    "        full_X_list.append(X2.reshape(8))\n",
    "        full_y_list.append(y2)\n",
    "                \n",
    "\n",
    "(y_R, y_G, y_B, y_std) = np.array(full_y_list).T"
   ]
  },
  {
   "cell_type": "markdown",
   "metadata": {},
   "source": [
    "### Fit model for each prediction feature (R/G/B/stdev)"
   ]
  },
  {
   "cell_type": "code",
   "execution_count": 187,
   "metadata": {
    "collapsed": false
   },
   "outputs": [
    {
     "name": "stdout",
     "output_type": "stream",
     "text": [
      "0.45084071159362793\n"
     ]
    }
   ],
   "source": [
    "from sklearn.linear_model import LinearRegression\n",
    "\n",
    "regression_model_R = LinearRegression(normalize=True)\n",
    "regression_model_G = LinearRegression(normalize=True)\n",
    "regression_model_B = LinearRegression(normalize=True)\n",
    "regression_model_std = LinearRegression(normalize=True)\n",
    "\n",
    "\n",
    "t0=time.time()\n",
    "regression_model_R.fit(full_X_list, y_R)\n",
    "regression_model_G.fit(full_X_list, y_G)\n",
    "regression_model_B.fit(full_X_list, y_B)\n",
    "regression_model_std.fit(full_X_list, y_std)\n",
    "print(time.time() - t0)"
   ]
  },
  {
   "cell_type": "code",
   "execution_count": 186,
   "metadata": {
    "collapsed": false
   },
   "outputs": [
    {
     "data": {
      "text/plain": [
       "array([ 0.03400273, -0.06812489, -0.14319724, -0.0327027 ,  0.03400273,\n",
       "       -0.06812489, -0.14319724, -0.0327027 ])"
      ]
     },
     "execution_count": 186,
     "metadata": {},
     "output_type": "execute_result"
    }
   ],
   "source": [
    "regression_model_R.coef_"
   ]
  },
  {
   "cell_type": "code",
   "execution_count": 188,
   "metadata": {
    "collapsed": false
   },
   "outputs": [
    {
     "data": {
      "text/plain": [
       "array([-0.15847685,  0.15007159, -0.18760174, -0.00973323, -0.15847685,\n",
       "        0.15007159, -0.18760174, -0.00973323])"
      ]
     },
     "execution_count": 188,
     "metadata": {},
     "output_type": "execute_result"
    }
   ],
   "source": [
    "regression_model_G.coef_"
   ]
  },
  {
   "cell_type": "code",
   "execution_count": 189,
   "metadata": {
    "collapsed": false
   },
   "outputs": [
    {
     "data": {
      "text/plain": [
       "array([-0.10962093, -0.08962852,  0.05681749, -0.04309547, -0.10962093,\n",
       "       -0.08962852,  0.05681749, -0.04309547])"
      ]
     },
     "execution_count": 189,
     "metadata": {},
     "output_type": "execute_result"
    }
   ],
   "source": [
    "regression_model_B.coef_"
   ]
  },
  {
   "cell_type": "code",
   "execution_count": 190,
   "metadata": {
    "collapsed": false,
    "scrolled": true
   },
   "outputs": [
    {
     "data": {
      "text/plain": [
       "array([ 0.0103689 ,  0.00233172, -0.010001  ,  0.10208932,  0.0103689 ,\n",
       "        0.00233172, -0.010001  ,  0.10208932])"
      ]
     },
     "execution_count": 190,
     "metadata": {},
     "output_type": "execute_result"
    }
   ],
   "source": [
    "regression_model_std.coef_"
   ]
  },
  {
   "cell_type": "code",
   "execution_count": 316,
   "metadata": {
    "collapsed": false
   },
   "outputs": [],
   "source": [
    "from importlib import reload\n",
    "\n",
    "import ColorModel\n",
    "reload(ColorModel)\n",
    "import ColorModel"
   ]
  },
  {
   "cell_type": "code",
   "execution_count": 317,
   "metadata": {
    "collapsed": false
   },
   "outputs": [],
   "source": [
    "train_data = ColorModel.color_dataset('train_features.dat')"
   ]
  },
  {
   "cell_type": "code",
   "execution_count": 318,
   "metadata": {
    "collapsed": false,
    "scrolled": true
   },
   "outputs": [],
   "source": [
    "train_data.convert_data_to_features()"
   ]
  },
  {
   "cell_type": "code",
   "execution_count": 319,
   "metadata": {
    "collapsed": true
   },
   "outputs": [],
   "source": [
    "train_data.linear_add_features()\n",
    "train_data.quadratic_add_features()"
   ]
  },
  {
   "cell_type": "code",
   "execution_count": null,
   "metadata": {
    "collapsed": true
   },
   "outputs": [],
   "source": []
  }
 ],
 "metadata": {
  "kernelspec": {
   "display_name": "Python 3",
   "language": "python",
   "name": "python3"
  },
  "language_info": {
   "codemirror_mode": {
    "name": "ipython",
    "version": 3
   },
   "file_extension": ".py",
   "mimetype": "text/x-python",
   "name": "python",
   "nbconvert_exporter": "python",
   "pygments_lexer": "ipython3",
   "version": "3.6.1"
  }
 },
 "nbformat": 4,
 "nbformat_minor": 1
}
