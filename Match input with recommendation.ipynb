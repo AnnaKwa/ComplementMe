{
 "cells": [
  {
   "cell_type": "code",
   "execution_count": 34,
   "metadata": {
    "collapsed": false
   },
   "outputs": [],
   "source": [
    "%matplotlib inline\n",
    "from IPython.display import clear_output\n",
    "from importlib import reload\n",
    "from PIL import Image\n",
    "\n",
    "import colorsys\n",
    "import pandas as pd\n",
    "import numpy as np\n",
    "import time\n",
    "import pickle\n",
    "import random\n",
    "import matplotlib.pyplot as plt\n",
    "\n",
    "import ColorPalettes\n",
    "import CatalogSearch\n",
    "import ColorModel\n",
    "reload(ColorPalettes)\n",
    "reload(CatalogSearch)\n",
    "reload(ColorModel)\n",
    "import ColorPalettes\n",
    "import CatalogSearch\n",
    "import ColorModel"
   ]
  },
  {
   "cell_type": "code",
   "execution_count": 35,
   "metadata": {
    "collapsed": false
   },
   "outputs": [
    {
     "name": "stderr",
     "output_type": "stream",
     "text": [
      "/home/anna/anaconda3/envs/conda3_env/lib/python3.6/site-packages/sklearn/utils/validation.py:395: DeprecationWarning: Passing 1d arrays as data is deprecated in 0.17 and will raise ValueError in 0.19. Reshape your data either using X.reshape(-1, 1) if your data has a single feature or X.reshape(1, -1) if it contains a single sample.\n",
      "  DeprecationWarning)\n",
      "/home/anna/anaconda3/envs/conda3_env/lib/python3.6/site-packages/sklearn/utils/validation.py:395: DeprecationWarning: Passing 1d arrays as data is deprecated in 0.17 and will raise ValueError in 0.19. Reshape your data either using X.reshape(-1, 1) if your data has a single feature or X.reshape(1, -1) if it contains a single sample.\n",
      "  DeprecationWarning)\n",
      "/home/anna/anaconda3/envs/conda3_env/lib/python3.6/site-packages/sklearn/utils/validation.py:395: DeprecationWarning: Passing 1d arrays as data is deprecated in 0.17 and will raise ValueError in 0.19. Reshape your data either using X.reshape(-1, 1) if your data has a single feature or X.reshape(1, -1) if it contains a single sample.\n",
      "  DeprecationWarning)\n",
      "/home/anna/anaconda3/envs/conda3_env/lib/python3.6/site-packages/sklearn/utils/validation.py:395: DeprecationWarning: Passing 1d arrays as data is deprecated in 0.17 and will raise ValueError in 0.19. Reshape your data either using X.reshape(-1, 1) if your data has a single feature or X.reshape(1, -1) if it contains a single sample.\n",
      "  DeprecationWarning)\n",
      "/home/anna/anaconda3/envs/conda3_env/lib/python3.6/site-packages/sklearn/utils/validation.py:395: DeprecationWarning: Passing 1d arrays as data is deprecated in 0.17 and will raise ValueError in 0.19. Reshape your data either using X.reshape(-1, 1) if your data has a single feature or X.reshape(1, -1) if it contains a single sample.\n",
      "  DeprecationWarning)\n",
      "/home/anna/anaconda3/envs/conda3_env/lib/python3.6/site-packages/sklearn/utils/validation.py:395: DeprecationWarning: Passing 1d arrays as data is deprecated in 0.17 and will raise ValueError in 0.19. Reshape your data either using X.reshape(-1, 1) if your data has a single feature or X.reshape(1, -1) if it contains a single sample.\n",
      "  DeprecationWarning)\n"
     ]
    }
   ],
   "source": [
    "input_outfit = ColorModel.outfit_input(location_type='local', location_path='/home/anna/Pictures/Selection_191.png')\n",
    "\n",
    "input_outfit.get_color_palette()\n",
    "input_outfit.get_two_pairs()\n",
    "input_outfit.get_linear_diff_features()\n",
    "\n",
    "model_filename = 'regression_model_linearDiff_RGBpredictors.p'\n",
    "model_vec = pickle.load(open('models/'+model_filename, 'rb'))  # [model_R, model_G, model_B]\n",
    "\n",
    "input_outfit.predict_color_matches(model_vec, predictor_set='rgb')\n",
    "\n"
   ]
  },
  {
   "cell_type": "code",
   "execution_count": 41,
   "metadata": {
    "collapsed": false
   },
   "outputs": [
    {
     "data": {
      "text/plain": [
       "[<matplotlib.lines.Line2D at 0x7fe1c2614940>]"
      ]
     },
     "execution_count": 41,
     "metadata": {},
     "output_type": "execute_result"
    },
    {
     "data": {
      "image/png": "[encoded data removed]",
      "text/plain": [
       "<matplotlib.figure.Figure at 0x7fe1c2226fd0>"
      ]
     },
     "metadata": {},
     "output_type": "display_data"
    }
   ],
   "source": [
    "ind=0\n",
    "MARKERSIZE=80\n",
    "input_color1 = input_outfit.color_pair_0[0]\n",
    "input_color2 = input_outfit.color_pair_0[1]\n",
    "predicted_color = input_outfit.color_match_0\n",
    "\n",
    "fig=plt.figure(figsize=(8,4))\n",
    "ax=fig.add_subplot(111)\n",
    "\n",
    "ax.axis('off')\n",
    "\n",
    "ax.set_xlim([.5,3.5])\n",
    "ax.set_ylim([8,12])\n",
    "\n",
    "ax.plot([1],[10], 's', markersize=MARKERSIZE, color=np.array(input_color1)/255. )\n",
    "ax.plot([1.75],[10], 's', markersize=MARKERSIZE, color=np.array(input_color2)/255. )\n",
    "ax.annotate('+', xycoords='data', xy=(1.37,10), fontsize=30,  ha=\"center\", va=\"center\")\n",
    "ax.annotate('=', xycoords='data', xy=(2.25,10), fontsize=30,  ha=\"center\", va=\"center\")\n",
    "ax.plot([2.75],[10], 's', markersize=MARKERSIZE, color=np.array(predicted_color) )\n"
   ]
  },
  {
   "cell_type": "code",
   "execution_count": 37,
   "metadata": {
    "collapsed": false
   },
   "outputs": [],
   "source": [
    "inventory_df = pd.read_pickle('full_inventory.p')"
   ]
  },
  {
   "cell_type": "code",
   "execution_count": 43,
   "metadata": {
    "collapsed": false
   },
   "outputs": [],
   "source": [
    "match_img_url, match_product_url, match_dist = ColorModel.get_catalog_match(predicted_color, inventory_df, category='accessory_bag')"
   ]
  },
  {
   "cell_type": "code",
   "execution_count": 44,
   "metadata": {
    "collapsed": false,
    "scrolled": false
   },
   "outputs": [
    {
     "name": "stdout",
     "output_type": "stream",
     "text": [
      "https://n.nordstrommedia.com/ImageGallery/store/product/Zoom/17/_100945117.jpg?fit=fill&fm=jpg&dpr=2&h=368&w=240&quality=45&tradecacheforcash=yes\n"
     ]
    }
   ],
   "source": [
    "print(match_img_url)"
   ]
  },
  {
   "cell_type": "code",
   "execution_count": null,
   "metadata": {
    "collapsed": true
   },
   "outputs": [],
   "source": []
  }
 ],
 "metadata": {
  "kernelspec": {
   "display_name": "Python 3",
   "language": "python",
   "name": "python3"
  },
  "language_info": {
   "codemirror_mode": {
    "name": "ipython",
    "version": 3
   },
   "file_extension": ".py",
   "mimetype": "text/x-python",
   "name": "python",
   "nbconvert_exporter": "python",
   "pygments_lexer": "ipython3",
   "version": "3.6.1"
  }
 },
 "nbformat": 4,
 "nbformat_minor": 0
}
